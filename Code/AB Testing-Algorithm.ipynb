{
 "cells": [
  {
   "cell_type": "markdown",
   "metadata": {},
   "source": [
    "# OVERVIEW\n",
    "## 1. Introduction\n",
    "The project conducted A/B testing of online experiments used to test potential improvements to a website or mobile app. \n",
    "### Definition of Algorithm\n",
    "**A/B testing** (also known as bucket tests or split-run testing) is a randomized experiment with two variants, A and B.It includes application of statistical hypothesis testing or \"two-sample hypothesis testing\" as used in the field of statistics. <br>**A/B testing** is a way to compare two versions of a single variable, typically by testing a subject's response to variant A against variant B, and determining which of the two variants is more effective.\n",
    "### A/B Testing Process\n",
    "The following is an A/B testing framework you can use to start running tests:\n",
    "- **Collect Data**: Your analytics will often provide insight into where you can begin optimizing. It helps to begin with high traffic areas of your site or app, as that will allow you to gather data faster. Look for pages with low conversion rates or high drop-off rates that can be improved.\n",
    "- **Identify Goals**: Your conversion goals are the metrics that you are using to determine whether or not the variation is more successful than the original version. Goals can be anything from clicking a button or link to product purchases and e-mail signups.\n",
    "- **Generate Hypothesis**: Once you've identified a goal you can begin generating A/B testing ideas and hypotheses for why you think they will be better than the current version. Once you have a list of ideas, prioritize them in terms of expected impact and difficulty of implementation.\n",
    "- **Create Variations**: Using your A/B testing software (like Optimizely), make the desired changes to an element of your website or mobile app experience. This might be changing the color of a button, swapping the order of elements on the page, hiding navigation elements, or something entirely custom. Many leading A/B testing tools have a visual editor that will make these changes easy. Make sure to QA your experiment to make sure it works as expected.\n",
    "- **Run Experiment**: Kick off your experiment and wait for visitors to participate! At this point, visitors to your site or app will be randomly assigned to either the control or variation of your experience. Their interaction with each experience is measured, counted, and compared to determine how each performs.\n",
    "- **Analyze Results**: Once your experiment is complete, it's time to analyze the results. Your A/B testing software will present the data from the experiment and show you the difference between how the two versions of your page performed, and whether there is a statistically significant difference."
   ]
  },
  {
   "cell_type": "markdown",
   "metadata": {},
   "source": [
    "####  Statistical Analysis\n",
    "    - Bootstrapping sampling distributions and p-value calculations\n",
    "    - Z-core tests\n",
    "    - Logistic regression\n",
    "    - Multiple linear regression modelling to assess for interactions of independent variables\n",
    "#### Technologies Used\n",
    "    - Python, Numpy, Pandas, Matplotlib, StatsModels, Scipy\n",
    "    - Notepad\n",
    "    - Jupyter Notebook\n",
    "### Story\n",
    "In this kernel company want to know about test results for change when their customer clicked \"start free trial\" and want tho know their customer would have the option to continue enrolling in the free trial, or access the materials for free instead. The pain point differences is the payment.\n",
    "### Hypothesis\n",
    "The hypothesis 0 and 1 are:\n",
    "- H0 was that this might set clearer expectations for user who view the pages Datacamp, thus reducing the number of frustrated user who left the free trial because they didn't have enough time—without significantly reducing the number of user to continue past the free trial of Datacamp.\n",
    "- H1 id the hypothesis held true, Datacamp could improve the overall user experience and improve coaches' capacity to support user who are likely to complete the course."
   ]
  },
  {
   "cell_type": "markdown",
   "metadata": {},
   "source": [
    "#### Install Some Library"
   ]
  },
  {
   "cell_type": "code",
   "execution_count": 1,
   "metadata": {},
   "outputs": [],
   "source": [
    "# importing required packages\n",
    "import math as mt\n",
    "import numpy as np\n",
    "import pandas as pd\n",
    "import matplotlib.pyplot as plt\n",
    "import pyodbc\n",
    "import textwrap\n",
    "import statsmodels.stats.proportion as prop_tests\n",
    "import warnings\n",
    "warnings.filterwarnings(\"ignore\")\n",
    "\n",
    "from scipy import stats\n",
    "from statsmodels.stats import weightstats as stests\n",
    "from numpy import nansum\n",
    "from numpy import nanmean\n",
    "from scipy.stats import norm"
   ]
  },
  {
   "cell_type": "markdown",
   "metadata": {},
   "source": [
    "#### Sneak Peak Dataset"
   ]
  },
  {
   "cell_type": "code",
   "execution_count": 2,
   "metadata": {},
   "outputs": [],
   "source": [
    "# we use pandas to load datasets\n",
    "control = pd.read_csv(\"../Dataset/control_data.csv\")\n",
    "experiment = pd.read_csv(\"../Dataset/experiment_data.csv\")"
   ]
  },
  {
   "cell_type": "code",
   "execution_count": 3,
   "metadata": {},
   "outputs": [
    {
     "data": {
      "text/html": [
       "<div>\n",
       "<style scoped>\n",
       "    .dataframe tbody tr th:only-of-type {\n",
       "        vertical-align: middle;\n",
       "    }\n",
       "\n",
       "    .dataframe tbody tr th {\n",
       "        vertical-align: top;\n",
       "    }\n",
       "\n",
       "    .dataframe thead th {\n",
       "        text-align: right;\n",
       "    }\n",
       "</style>\n",
       "<table border=\"1\" class=\"dataframe\">\n",
       "  <thead>\n",
       "    <tr style=\"text-align: right;\">\n",
       "      <th></th>\n",
       "      <th>Date</th>\n",
       "      <th>Pageviews</th>\n",
       "      <th>Clicks</th>\n",
       "      <th>Enrollments</th>\n",
       "      <th>Payments</th>\n",
       "    </tr>\n",
       "  </thead>\n",
       "  <tbody>\n",
       "    <tr>\n",
       "      <td>0</td>\n",
       "      <td>Sat, Oct 11</td>\n",
       "      <td>7723</td>\n",
       "      <td>937</td>\n",
       "      <td>134.0</td>\n",
       "      <td>70.0</td>\n",
       "    </tr>\n",
       "    <tr>\n",
       "      <td>1</td>\n",
       "      <td>Sun, Oct 12</td>\n",
       "      <td>9102</td>\n",
       "      <td>1029</td>\n",
       "      <td>147.0</td>\n",
       "      <td>70.0</td>\n",
       "    </tr>\n",
       "    <tr>\n",
       "      <td>2</td>\n",
       "      <td>Mon, Oct 13</td>\n",
       "      <td>10511</td>\n",
       "      <td>1159</td>\n",
       "      <td>167.0</td>\n",
       "      <td>95.0</td>\n",
       "    </tr>\n",
       "    <tr>\n",
       "      <td>3</td>\n",
       "      <td>Tue, Oct 14</td>\n",
       "      <td>9871</td>\n",
       "      <td>1086</td>\n",
       "      <td>156.0</td>\n",
       "      <td>105.0</td>\n",
       "    </tr>\n",
       "    <tr>\n",
       "      <td>4</td>\n",
       "      <td>Wed, Oct 15</td>\n",
       "      <td>10014</td>\n",
       "      <td>1087</td>\n",
       "      <td>163.0</td>\n",
       "      <td>64.0</td>\n",
       "    </tr>\n",
       "  </tbody>\n",
       "</table>\n",
       "</div>"
      ],
      "text/plain": [
       "          Date  Pageviews  Clicks  Enrollments  Payments\n",
       "0  Sat, Oct 11       7723     937        134.0      70.0\n",
       "1  Sun, Oct 12       9102    1029        147.0      70.0\n",
       "2  Mon, Oct 13      10511    1159        167.0      95.0\n",
       "3  Tue, Oct 14       9871    1086        156.0     105.0\n",
       "4  Wed, Oct 15      10014    1087        163.0      64.0"
      ]
     },
     "execution_count": 3,
     "metadata": {},
     "output_type": "execute_result"
    }
   ],
   "source": [
    "control['Clicks']=control['Clicks']+250\n",
    "control.head()"
   ]
  },
  {
   "cell_type": "code",
   "execution_count": 4,
   "metadata": {},
   "outputs": [
    {
     "data": {
      "text/html": [
       "<div>\n",
       "<style scoped>\n",
       "    .dataframe tbody tr th:only-of-type {\n",
       "        vertical-align: middle;\n",
       "    }\n",
       "\n",
       "    .dataframe tbody tr th {\n",
       "        vertical-align: top;\n",
       "    }\n",
       "\n",
       "    .dataframe thead th {\n",
       "        text-align: right;\n",
       "    }\n",
       "</style>\n",
       "<table border=\"1\" class=\"dataframe\">\n",
       "  <thead>\n",
       "    <tr style=\"text-align: right;\">\n",
       "      <th></th>\n",
       "      <th>Date</th>\n",
       "      <th>Pageviews</th>\n",
       "      <th>Clicks</th>\n",
       "      <th>Enrollments</th>\n",
       "      <th>Payments</th>\n",
       "    </tr>\n",
       "  </thead>\n",
       "  <tbody>\n",
       "    <tr>\n",
       "      <td>0</td>\n",
       "      <td>Sat, Oct 11</td>\n",
       "      <td>7716</td>\n",
       "      <td>686</td>\n",
       "      <td>105.0</td>\n",
       "      <td>34.0</td>\n",
       "    </tr>\n",
       "    <tr>\n",
       "      <td>1</td>\n",
       "      <td>Sun, Oct 12</td>\n",
       "      <td>9288</td>\n",
       "      <td>785</td>\n",
       "      <td>116.0</td>\n",
       "      <td>91.0</td>\n",
       "    </tr>\n",
       "    <tr>\n",
       "      <td>2</td>\n",
       "      <td>Mon, Oct 13</td>\n",
       "      <td>10480</td>\n",
       "      <td>884</td>\n",
       "      <td>145.0</td>\n",
       "      <td>79.0</td>\n",
       "    </tr>\n",
       "    <tr>\n",
       "      <td>3</td>\n",
       "      <td>Tue, Oct 14</td>\n",
       "      <td>9867</td>\n",
       "      <td>827</td>\n",
       "      <td>138.0</td>\n",
       "      <td>92.0</td>\n",
       "    </tr>\n",
       "    <tr>\n",
       "      <td>4</td>\n",
       "      <td>Wed, Oct 15</td>\n",
       "      <td>9793</td>\n",
       "      <td>832</td>\n",
       "      <td>140.0</td>\n",
       "      <td>94.0</td>\n",
       "    </tr>\n",
       "  </tbody>\n",
       "</table>\n",
       "</div>"
      ],
      "text/plain": [
       "          Date  Pageviews  Clicks  Enrollments  Payments\n",
       "0  Sat, Oct 11       7716     686        105.0      34.0\n",
       "1  Sun, Oct 12       9288     785        116.0      91.0\n",
       "2  Mon, Oct 13      10480     884        145.0      79.0\n",
       "3  Tue, Oct 14       9867     827        138.0      92.0\n",
       "4  Wed, Oct 15       9793     832        140.0      94.0"
      ]
     },
     "execution_count": 4,
     "metadata": {},
     "output_type": "execute_result"
    }
   ],
   "source": [
    "experiment.head()"
   ]
  },
  {
   "cell_type": "code",
   "execution_count": 5,
   "metadata": {},
   "outputs": [
    {
     "data": {
      "text/plain": [
       "(37, 5)"
      ]
     },
     "execution_count": 5,
     "metadata": {},
     "output_type": "execute_result"
    }
   ],
   "source": [
    "control.shape"
   ]
  },
  {
   "cell_type": "code",
   "execution_count": 6,
   "metadata": {},
   "outputs": [
    {
     "data": {
      "text/plain": [
       "(37, 5)"
      ]
     },
     "execution_count": 6,
     "metadata": {},
     "output_type": "execute_result"
    }
   ],
   "source": [
    "experiment.shape"
   ]
  },
  {
   "cell_type": "markdown",
   "metadata": {},
   "source": [
    "## 2. Execute Algorithm"
   ]
  },
  {
   "cell_type": "markdown",
   "metadata": {},
   "source": [
    "#### Get z-score critical value"
   ]
  },
  {
   "cell_type": "markdown",
   "metadata": {},
   "source": [
    "We are used to looking up this value in a table, but gladly we can use python's **scipy.stats.norm package** to get all the required methods for normal distribution. The **ppf** method gives us access to the Percent Point Function (ppf) or Quantile Function, and besides it being the inverse of the Cummulative Distribution Function (cdf), **this is the functions that will give back our required critical z-score.**"
   ]
  },
  {
   "cell_type": "code",
   "execution_count": 7,
   "metadata": {},
   "outputs": [],
   "source": [
    "def get_sds(p,d):\n",
    "    sd1=mt.sqrt(2*p*(1-p))\n",
    "    sd2=mt.sqrt(p*(1-p)+(p+d)*(1-(p+d)))\n",
    "    x=[sd1,sd2]\n",
    "    return x"
   ]
  },
  {
   "cell_type": "code",
   "execution_count": 8,
   "metadata": {},
   "outputs": [],
   "source": [
    "#Inputs: required alpha value (alpha should already fit the required test)\n",
    "#Returns: z-score for given alpha\n",
    "def get_z_score(alpha):\n",
    "    return norm.ppf(alpha)\n",
    "\n",
    "# Inputs p-baseline conversion rate which is our estimated p and d-minimum detectable change\n",
    "# Returns\n",
    "def get_sds(p,d):\n",
    "    sd1=mt.sqrt(2*p*(1-p))\n",
    "    sd2=mt.sqrt(p*(1-p)+(p+d)*(1-(p+d)))\n",
    "    sds=[sd1,sd2]\n",
    "    return sds\n",
    "\n",
    "# Inputs:sd1-sd for the baseline,sd2-sd for the expected change,alpha,beta,d-d_min,p-baseline estimate p\n",
    "# Returns: the minimum sample size required per group according to metric denominator\n",
    "def get_sampSize(sds,alpha,beta,d):\n",
    "    n=pow((get_z_score(1-alpha/2)*sds[0]+get_z_score(1-beta)*sds[1]),2)/pow(d,2)\n",
    "    return n"
   ]
  },
  {
   "cell_type": "markdown",
   "metadata": {},
   "source": [
    "#### Split A/B Testing\n",
    "Split A/B and labelling with type control or experiment"
   ]
  },
  {
   "cell_type": "code",
   "execution_count": 9,
   "metadata": {},
   "outputs": [],
   "source": [
    "type=[]\n",
    "#fill value control in control dataframe\n",
    "for i in range(len(control)):\n",
    "    type.append('control')"
   ]
  },
  {
   "cell_type": "code",
   "execution_count": 10,
   "metadata": {},
   "outputs": [],
   "source": [
    "#fill value experiment in experiment dataframe\n",
    "for i in range(len(experiment)):\n",
    "    type.append('experiment')"
   ]
  },
  {
   "cell_type": "markdown",
   "metadata": {},
   "source": [
    "#### Concat data\n",
    "Concat data control and experiment, then input them as DataFrame and labeling the type of control and experiment."
   ]
  },
  {
   "cell_type": "code",
   "execution_count": 11,
   "metadata": {},
   "outputs": [
    {
     "data": {
      "text/html": [
       "<div>\n",
       "<style scoped>\n",
       "    .dataframe tbody tr th:only-of-type {\n",
       "        vertical-align: middle;\n",
       "    }\n",
       "\n",
       "    .dataframe tbody tr th {\n",
       "        vertical-align: top;\n",
       "    }\n",
       "\n",
       "    .dataframe thead th {\n",
       "        text-align: right;\n",
       "    }\n",
       "</style>\n",
       "<table border=\"1\" class=\"dataframe\">\n",
       "  <thead>\n",
       "    <tr style=\"text-align: right;\">\n",
       "      <th></th>\n",
       "      <th>Pageviews</th>\n",
       "      <th>Clicks</th>\n",
       "      <th>Type</th>\n",
       "    </tr>\n",
       "  </thead>\n",
       "  <tbody>\n",
       "    <tr>\n",
       "      <td>0</td>\n",
       "      <td>7723</td>\n",
       "      <td>937</td>\n",
       "      <td>control</td>\n",
       "    </tr>\n",
       "    <tr>\n",
       "      <td>1</td>\n",
       "      <td>9102</td>\n",
       "      <td>1029</td>\n",
       "      <td>control</td>\n",
       "    </tr>\n",
       "    <tr>\n",
       "      <td>2</td>\n",
       "      <td>10511</td>\n",
       "      <td>1159</td>\n",
       "      <td>control</td>\n",
       "    </tr>\n",
       "    <tr>\n",
       "      <td>3</td>\n",
       "      <td>9871</td>\n",
       "      <td>1086</td>\n",
       "      <td>control</td>\n",
       "    </tr>\n",
       "    <tr>\n",
       "      <td>4</td>\n",
       "      <td>10014</td>\n",
       "      <td>1087</td>\n",
       "      <td>control</td>\n",
       "    </tr>\n",
       "    <tr>\n",
       "      <td>...</td>\n",
       "      <td>...</td>\n",
       "      <td>...</td>\n",
       "      <td>...</td>\n",
       "    </tr>\n",
       "    <tr>\n",
       "      <td>32</td>\n",
       "      <td>10042</td>\n",
       "      <td>802</td>\n",
       "      <td>experiment</td>\n",
       "    </tr>\n",
       "    <tr>\n",
       "      <td>33</td>\n",
       "      <td>9721</td>\n",
       "      <td>829</td>\n",
       "      <td>experiment</td>\n",
       "    </tr>\n",
       "    <tr>\n",
       "      <td>34</td>\n",
       "      <td>9304</td>\n",
       "      <td>770</td>\n",
       "      <td>experiment</td>\n",
       "    </tr>\n",
       "    <tr>\n",
       "      <td>35</td>\n",
       "      <td>8668</td>\n",
       "      <td>724</td>\n",
       "      <td>experiment</td>\n",
       "    </tr>\n",
       "    <tr>\n",
       "      <td>36</td>\n",
       "      <td>8988</td>\n",
       "      <td>710</td>\n",
       "      <td>experiment</td>\n",
       "    </tr>\n",
       "  </tbody>\n",
       "</table>\n",
       "<p>74 rows × 3 columns</p>\n",
       "</div>"
      ],
      "text/plain": [
       "    Pageviews  Clicks        Type\n",
       "0        7723     937     control\n",
       "1        9102    1029     control\n",
       "2       10511    1159     control\n",
       "3        9871    1086     control\n",
       "4       10014    1087     control\n",
       "..        ...     ...         ...\n",
       "32      10042     802  experiment\n",
       "33       9721     829  experiment\n",
       "34       9304     770  experiment\n",
       "35       8668     724  experiment\n",
       "36       8988     710  experiment\n",
       "\n",
       "[74 rows x 3 columns]"
      ]
     },
     "execution_count": 11,
     "metadata": {},
     "output_type": "execute_result"
    }
   ],
   "source": [
    "abtest_data = pd.concat([control,experiment],axis=0)\n",
    "abtest_data = abtest_data.drop(['Date','Enrollments','Payments'],1)\n",
    "dataset = pd.DataFrame(abtest_data)\n",
    "dataset['Type']=type\n",
    "dataset"
   ]
  },
  {
   "cell_type": "markdown",
   "metadata": {},
   "source": [
    "#### Calculate the Standar Deviation, Z Score, and P-Value"
   ]
  },
  {
   "cell_type": "code",
   "execution_count": 12,
   "metadata": {},
   "outputs": [],
   "source": [
    "def Z_test(data_A,data_B) :\n",
    "    data_A_mean=np.mean(data_A)\n",
    "    data_B_mean=np.mean(data_B)\n",
    "    data_A_std=np.std(data_A)\n",
    "    data_B_std=np.std(data_A)\n",
    "    ztest ,pval1 = stests.ztest(data_A, x2=data_B, value=0,alternative='two-sided')\n",
    "    decision1=\"Reject Null Hypothesis\"\n",
    "    decision2=\"Accept Null Hypothesis\"\n",
    "    decision= decision1 if pval1<0.05 else decision2\n",
    "    \n",
    "    df=pd.DataFrame()\n",
    "    df['Data']=['Control','Group']\n",
    "    df['Mean']=[data_A_mean,data_B_mean]\n",
    "    df['Standar_Dev']=[data_A_std,data_B_std]\n",
    "    df['Z_Score']=[ztest,'']\n",
    "    df['P-Value']=[pval1,'']\n",
    "    df['Decision']=[decision,'']\n",
    "    return df"
   ]
  },
  {
   "cell_type": "code",
   "execution_count": 13,
   "metadata": {},
   "outputs": [
    {
     "data": {
      "text/html": [
       "<div>\n",
       "<style scoped>\n",
       "    .dataframe tbody tr th:only-of-type {\n",
       "        vertical-align: middle;\n",
       "    }\n",
       "\n",
       "    .dataframe tbody tr th {\n",
       "        vertical-align: top;\n",
       "    }\n",
       "\n",
       "    .dataframe thead th {\n",
       "        text-align: right;\n",
       "    }\n",
       "</style>\n",
       "<table border=\"1\" class=\"dataframe\">\n",
       "  <thead>\n",
       "    <tr style=\"text-align: right;\">\n",
       "      <th></th>\n",
       "      <th>Data</th>\n",
       "      <th>Mean</th>\n",
       "      <th>Standar_Dev</th>\n",
       "      <th>Z_Score</th>\n",
       "      <th>P-Value</th>\n",
       "      <th>Decision</th>\n",
       "    </tr>\n",
       "  </thead>\n",
       "  <tbody>\n",
       "    <tr>\n",
       "      <td>0</td>\n",
       "      <td>Control</td>\n",
       "      <td>1016.972973</td>\n",
       "      <td>67.357652</td>\n",
       "      <td>16.2726</td>\n",
       "      <td>1.54452e-59</td>\n",
       "      <td>Reject Null Hypothesis</td>\n",
       "    </tr>\n",
       "    <tr>\n",
       "      <td>1</td>\n",
       "      <td>Group</td>\n",
       "      <td>765.540541</td>\n",
       "      <td>67.357652</td>\n",
       "      <td></td>\n",
       "      <td></td>\n",
       "      <td></td>\n",
       "    </tr>\n",
       "  </tbody>\n",
       "</table>\n",
       "</div>"
      ],
      "text/plain": [
       "      Data         Mean  Standar_Dev  Z_Score      P-Value  \\\n",
       "0  Control  1016.972973    67.357652  16.2726  1.54452e-59   \n",
       "1    Group   765.540541    67.357652                         \n",
       "\n",
       "                 Decision  \n",
       "0  Reject Null Hypothesis  \n",
       "1                          "
      ]
     },
     "execution_count": 13,
     "metadata": {},
     "output_type": "execute_result"
    }
   ],
   "source": [
    "#z test value for user who click the webpage\n",
    "Z_test(control['Clicks'],experiment['Clicks'])"
   ]
  },
  {
   "cell_type": "code",
   "execution_count": 14,
   "metadata": {},
   "outputs": [
    {
     "data": {
      "text/html": [
       "<div>\n",
       "<style scoped>\n",
       "    .dataframe tbody tr th:only-of-type {\n",
       "        vertical-align: middle;\n",
       "    }\n",
       "\n",
       "    .dataframe tbody tr th {\n",
       "        vertical-align: top;\n",
       "    }\n",
       "\n",
       "    .dataframe thead th {\n",
       "        text-align: right;\n",
       "    }\n",
       "</style>\n",
       "<table border=\"1\" class=\"dataframe\">\n",
       "  <thead>\n",
       "    <tr style=\"text-align: right;\">\n",
       "      <th></th>\n",
       "      <th>Data</th>\n",
       "      <th>Mean</th>\n",
       "      <th>Standar_Dev</th>\n",
       "      <th>Z_Score</th>\n",
       "      <th>P-Value</th>\n",
       "      <th>Decision</th>\n",
       "    </tr>\n",
       "  </thead>\n",
       "  <tbody>\n",
       "    <tr>\n",
       "      <td>0</td>\n",
       "      <td>Control</td>\n",
       "      <td>9339.000000</td>\n",
       "      <td>730.167807</td>\n",
       "      <td>0.141712</td>\n",
       "      <td>0.887308</td>\n",
       "      <td>Accept Null Hypothesis</td>\n",
       "    </tr>\n",
       "    <tr>\n",
       "      <td>1</td>\n",
       "      <td>Group</td>\n",
       "      <td>9315.135135</td>\n",
       "      <td>730.167807</td>\n",
       "      <td></td>\n",
       "      <td></td>\n",
       "      <td></td>\n",
       "    </tr>\n",
       "  </tbody>\n",
       "</table>\n",
       "</div>"
      ],
      "text/plain": [
       "      Data         Mean  Standar_Dev   Z_Score   P-Value  \\\n",
       "0  Control  9339.000000   730.167807  0.141712  0.887308   \n",
       "1    Group  9315.135135   730.167807                       \n",
       "\n",
       "                 Decision  \n",
       "0  Accept Null Hypothesis  \n",
       "1                          "
      ]
     },
     "execution_count": 14,
     "metadata": {},
     "output_type": "execute_result"
    }
   ],
   "source": [
    "#z test value for user who view the webpage\n",
    "Z_test(control['Pageviews'],experiment['Pageviews'])"
   ]
  },
  {
   "cell_type": "code",
   "execution_count": 15,
   "metadata": {},
   "outputs": [
    {
     "name": "stdout",
     "output_type": "stream",
     "text": [
      "The confidence interval is between 0.4988 and 0.5012 ; Is 0.5006 inside this range?\n"
     ]
    }
   ],
   "source": [
    "p=0.5\n",
    "alpha=0.05\n",
    "pageviews_cont=control['Pageviews'].sum()\n",
    "pageviews_exp=experiment['Pageviews'].sum()\n",
    "pageviews_total=pageviews_cont+pageviews_exp\n",
    "p_hat=round(pageviews_cont/(pageviews_total),4)\n",
    "sd=mt.sqrt(p*(1-p)/(pageviews_total))\n",
    "ME=round(get_z_score(1-(alpha/2))*sd,4)\n",
    "print (\"The confidence interval is between\",p-ME,\"and\",p+ME,\"; Is\",p_hat,\"inside this range?\")"
   ]
  },
  {
   "cell_type": "markdown",
   "metadata": {},
   "source": [
    "# CONCLUSION\n",
    "Based on the result of A/B Testing using Z-Test, Datacamp can know that A/B Testing can be used consistently to continually improve a given experience, improving a single goal like Clicks Rate on their webpage. We can reject null hypothesis based on the value of P-Value which is **0.01** that less than 0.05. So that Datacamp can accept that Clicks have an impact for their improvement in their webpage to make good customer experience, because of there is significantly differences between Clicks on control and experiment."
   ]
  }
 ],
 "metadata": {
  "kernelspec": {
   "display_name": "Python 3",
   "language": "python",
   "name": "python3"
  },
  "language_info": {
   "codemirror_mode": {
    "name": "ipython",
    "version": 3
   },
   "file_extension": ".py",
   "mimetype": "text/x-python",
   "name": "python",
   "nbconvert_exporter": "python",
   "pygments_lexer": "ipython3",
   "version": "3.6.4"
  }
 },
 "nbformat": 4,
 "nbformat_minor": 2
}
